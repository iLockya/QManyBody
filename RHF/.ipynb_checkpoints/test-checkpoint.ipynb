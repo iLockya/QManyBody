{
 "cells": [
  {
   "cell_type": "code",
   "execution_count": 1,
   "id": "20ca88cd",
   "metadata": {},
   "outputs": [],
   "source": [
    "include(\"RHF.jl\")\n",
    "include(\"utils.jl\")\n",
    "using LinearAlgebra\n",
    "using TensorOperations"
   ]
  },
  {
   "cell_type": "code",
   "execution_count": 18,
   "id": "2b370649",
   "metadata": {
    "scrolled": false
   },
   "outputs": [
    {
     "data": {
      "text/plain": [
       "Nucleus{Int64, Float64}(1, [0.0, 0.0, 0.0])"
      ]
     },
     "execution_count": 18,
     "metadata": {},
     "output_type": "execute_result"
    }
   ],
   "source": [
    "A = STO3G()\n",
    "N = Nucleus()"
   ]
  },
  {
   "cell_type": "code",
   "execution_count": 5,
   "id": "8c7c4b3f",
   "metadata": {},
   "outputs": [
    {
     "data": {
      "text/plain": [
       "-0.46658185041114275"
      ]
     },
     "execution_count": 5,
     "metadata": {},
     "output_type": "execute_result"
    }
   ],
   "source": [
    "# check H atom.\n",
    "E₀ = ∫(STO3G(),STO3G();type = \"kinetic\") + ∫(STO3G(),STO3G();type = \"nucleus\")"
   ]
  },
  {
   "cell_type": "code",
   "execution_count": 20,
   "id": "a8f9d202",
   "metadata": {},
   "outputs": [
    {
     "data": {
      "text/plain": [
       "2×2 Symmetric{Float64, Matrix{Float64}}:\n",
       " 1.0       0.659318\n",
       " 0.659318  1.0"
      ]
     },
     "execution_count": 20,
     "metadata": {},
     "output_type": "execute_result"
    }
   ],
   "source": [
    "d = 1.4\n",
    "Basis = [STO3G(R=[0,0.0,0.0]),STO3G(R=[d,0.0,0.0])]\n",
    "Orbs = [[1.0,0.0],[0,1.0]]\n",
    "Ns = [Nucleus(1,[0.0,0.0,0.0]),Nucleus(1,[d,0.0,0.0])]\n",
    "S = Basis_Overlap_Matrix(Basis)"
   ]
  },
  {
   "cell_type": "code",
   "execution_count": 10,
   "id": "6821802f",
   "metadata": {},
   "outputs": [
    {
     "data": {
      "text/plain": [
       "0.5652995035735471"
      ]
     },
     "execution_count": 10,
     "metadata": {},
     "output_type": "execute_result"
    }
   ],
   "source": [
    "det(S)"
   ]
  },
  {
   "cell_type": "code",
   "execution_count": 64,
   "id": "895ae440",
   "metadata": {
    "scrolled": true
   },
   "outputs": [
    {
     "data": {
      "text/plain": [
       "2-element Vector{Float64}:\n",
       " -0.7071067811865475\n",
       "  0.7071067811865475"
      ]
     },
     "execution_count": 64,
     "metadata": {},
     "output_type": "execute_result"
    }
   ],
   "source": [
    "S = Basis_Overlap_Matrix(Basis)\n",
    "eigvals(S)\n",
    "V = eigvecs(S)[:,1]"
   ]
  },
  {
   "cell_type": "code",
   "execution_count": 70,
   "id": "f08bf909",
   "metadata": {},
   "outputs": [
    {
     "data": {
      "text/plain": [
       "0.340681794219102"
      ]
     },
     "execution_count": 70,
     "metadata": {},
     "output_type": "execute_result"
    }
   ],
   "source": [
    "eigmin(S)"
   ]
  },
  {
   "cell_type": "code",
   "execution_count": 23,
   "id": "f96edaa9",
   "metadata": {
    "scrolled": true
   },
   "outputs": [
    {
     "data": {
      "text/plain": [
       "2×2 Symmetric{Float64, Matrix{Float64}}:\n",
       " 0.760032  0.236455\n",
       " 0.236455  0.760032"
      ]
     },
     "execution_count": 23,
     "metadata": {},
     "output_type": "execute_result"
    }
   ],
   "source": [
    "T = Basis_Overlap_Matrix(Basis;type=\"kinetic\")"
   ]
  },
  {
   "cell_type": "code",
   "execution_count": 27,
   "id": "50cdf6a8",
   "metadata": {},
   "outputs": [
    {
     "data": {
      "text/plain": [
       "2×2 Symmetric{Float64, Matrix{Float64}}:\n",
       " -1.88044  -1.19483\n",
       " -1.19483  -1.88044"
      ]
     },
     "execution_count": 27,
     "metadata": {},
     "output_type": "execute_result"
    }
   ],
   "source": [
    "V1 = Basis_Overlap_Matrix(Basis;type=\"nucleus\",N=Ns[1])\n",
    "V2 = Basis_Overlap_Matrix(Basis;type=\"nucleus\",N=Ns[2])\n",
    "V1+V2"
   ]
  },
  {
   "cell_type": "code",
   "execution_count": null,
   "id": "add95463",
   "metadata": {},
   "outputs": [],
   "source": [
    "V1+V2"
   ]
  },
  {
   "cell_type": "code",
   "execution_count": null,
   "id": "d2a74b3f",
   "metadata": {},
   "outputs": [],
   "source": [
    "H_c = H_core(B,N)"
   ]
  },
  {
   "cell_type": "code",
   "execution_count": null,
   "id": "4a23940c",
   "metadata": {
    "scrolled": true
   },
   "outputs": [],
   "source": [
    "J(Basis,Orbs,1)"
   ]
  },
  {
   "cell_type": "code",
   "execution_count": 6,
   "id": "40eac792",
   "metadata": {},
   "outputs": [
    {
     "data": {
      "text/plain": [
       "2×2 Symmetric{Float64, Matrix{Float64}}:\n",
       " 0.297029  0.444108\n",
       " 0.444108  0.774606"
      ]
     },
     "execution_count": 6,
     "metadata": {},
     "output_type": "execute_result"
    }
   ],
   "source": [
    "J = e_e(Basis,Orbs,1,\"J\")\n",
    "K = e_e(Basis,Orbs,1,\"K\")"
   ]
  },
  {
   "cell_type": "code",
   "execution_count": 34,
   "id": "b24ca2f6",
   "metadata": {
    "scrolled": false
   },
   "outputs": [
    {
     "data": {
      "text/plain": [
       "4-element Vector{Float64}:\n",
       " 0.7746059443199179\n",
       " 0.4441076589533521\n",
       " 0.29702854122262784\n",
       " 0.5696759265516234"
      ]
     },
     "execution_count": 34,
     "metadata": {},
     "output_type": "execute_result"
    }
   ],
   "source": [
    "[∫(Basis[1],Basis[1],Basis[1],Basis[1]),∫(Basis[1],Basis[1],Basis[1],Basis[2]),∫(Basis[1],Basis[2],Basis[1],Basis[2]),∫(Basis[1],Basis[1],Basis[2],Basis[2])]"
   ]
  },
  {
   "cell_type": "code",
   "execution_count": 40,
   "id": "d28ae0b2",
   "metadata": {},
   "outputs": [
    {
     "data": {
      "text/plain": [
       "2×2×2×2 Array{Float64, 4}:\n",
       "[:, :, 1, 1] =\n",
       " 0.774606  0.444108\n",
       " 0.444108  0.842323\n",
       "\n",
       "[:, :, 2, 1] =\n",
       " 0.444108  0.0243812\n",
       " 0.297029  0.444108\n",
       "\n",
       "[:, :, 1, 2] =\n",
       " 0.444108   0.297029\n",
       " 0.0243812  0.444108\n",
       "\n",
       "[:, :, 2, 2] =\n",
       " 0.842323  0.444108\n",
       " 0.444108  0.774606"
      ]
     },
     "execution_count": 40,
     "metadata": {},
     "output_type": "execute_result"
    }
   ],
   "source": [
    "g = zeros(2,2,2,2)\n",
    "for i=1:2,j=1:2,k=1:2,l=1:2\n",
    "    g[i,j,k,l] = 2*∫(Basis[i],Basis[j],Basis[k],Basis[l]) - \n",
    "                   ∫(Basis[i],Basis[l],Basis[k],Basis[j])\n",
    "end"
   ]
  },
  {
   "cell_type": "code",
   "execution_count": 74,
   "id": "fd0a944a",
   "metadata": {
    "scrolled": true
   },
   "outputs": [
    {
     "data": {
      "text/plain": [
       "2×2 Matrix{Float64}:\n",
       " 0.774606  0.444108\n",
       " 0.444108  0.842323"
      ]
     },
     "execution_count": 74,
     "metadata": {},
     "output_type": "execute_result"
    }
   ],
   "source": [
    "g[:,:,1,1]"
   ]
  },
  {
   "cell_type": "code",
   "execution_count": 75,
   "id": "b0ca340e",
   "metadata": {},
   "outputs": [
    {
     "data": {
      "text/plain": [
       "2×2 Matrix{Float64}:\n",
       " 0.842323  0.444108\n",
       " 0.444108  0.774606"
      ]
     },
     "execution_count": 75,
     "metadata": {},
     "output_type": "execute_result"
    }
   ],
   "source": [
    "g[:,:,2,2]"
   ]
  }
 ],
 "metadata": {
  "kernelspec": {
   "display_name": "Julia 1.7.2",
   "language": "julia",
   "name": "julia-1.7"
  },
  "language_info": {
   "file_extension": ".jl",
   "mimetype": "application/julia",
   "name": "julia",
   "version": "1.7.2"
  }
 },
 "nbformat": 4,
 "nbformat_minor": 5
}
